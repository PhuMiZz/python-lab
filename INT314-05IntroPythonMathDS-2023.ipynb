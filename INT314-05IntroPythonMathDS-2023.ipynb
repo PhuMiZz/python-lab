{
 "cells": [
  {
   "cell_type": "markdown",
   "metadata": {
    "id": "p65URGvtaCO0"
   },
   "source": [
    "## Student Information\n",
    "- 6xxxxxxxx\n",
    "- ชือ สกุล \n",
    "- Groub xx"
   ]
  },
  {
   "cell_type": "markdown",
   "metadata": {
    "id": "RE7kmBXL2Wra"
   },
   "source": [
    "## **Intro. Python for Math/DS**\n",
    "\n",
    "- Basic data type in Python\n",
    "- Vector/Matrix Operation\n",
    "- Eigenvector/Eigenvalue + PCA + Eigenface"
   ]
  },
  {
   "cell_type": "markdown",
   "metadata": {
    "id": "ikCZPHt-3gOu"
   },
   "source": [
    "### Basic data types"
   ]
  },
  {
   "cell_type": "markdown",
   "metadata": {
    "id": "atXs32vh3nrF"
   },
   "source": [
    "#### List  \n",
    "\n",
    "อยู่ระหว่าง [ ] คั่นด้วย ,"
   ]
  },
  {
   "cell_type": "code",
   "execution_count": 10,
   "metadata": {
    "id": "qRT-Wqi11iqd"
   },
   "outputs": [],
   "source": [
    "x = [1,2,3]\n",
    "y = [4,5,6]"
   ]
  },
  {
   "cell_type": "code",
   "execution_count": 3,
   "metadata": {
    "colab": {
     "base_uri": "https://localhost:8080/"
    },
    "executionInfo": {
     "elapsed": 453,
     "status": "ok",
     "timestamp": 1664247560535,
     "user": {
      "displayName": "NIWAN WATTANAKITRUNGROJ",
      "userId": "04851413051165022286"
     },
     "user_tz": -420
    },
    "id": "aC1SL-gg4b0d",
    "outputId": "81532b4a-b391-408b-e92b-7d5470031bfa"
   },
   "outputs": [
    {
     "data": {
      "text/plain": [
       "[1, 2, 3, 4, 5, 6]"
      ]
     },
     "execution_count": 3,
     "metadata": {},
     "output_type": "execute_result"
    }
   ],
   "source": [
    "z = x + y\n",
    "z"
   ]
  },
  {
   "cell_type": "code",
   "execution_count": 4,
   "metadata": {
    "colab": {
     "base_uri": "https://localhost:8080/"
    },
    "executionInfo": {
     "elapsed": 2,
     "status": "ok",
     "timestamp": 1664247661387,
     "user": {
      "displayName": "NIWAN WATTANAKITRUNGROJ",
      "userId": "04851413051165022286"
     },
     "user_tz": -420
    },
    "id": "7tQhmSge4jrt",
    "outputId": "b5f1fa67-638f-444d-8f8b-283cefe70bfe"
   },
   "outputs": [
    {
     "data": {
      "text/plain": [
       "[1, 2, 3]"
      ]
     },
     "execution_count": 4,
     "metadata": {},
     "output_type": "execute_result"
    }
   ],
   "source": [
    "z[:3] # z[0:3]"
   ]
  },
  {
   "cell_type": "code",
   "execution_count": 11,
   "metadata": {
    "colab": {
     "base_uri": "https://localhost:8080/"
    },
    "executionInfo": {
     "elapsed": 474,
     "status": "ok",
     "timestamp": 1664247689676,
     "user": {
      "displayName": "NIWAN WATTANAKITRUNGROJ",
      "userId": "04851413051165022286"
     },
     "user_tz": -420
    },
    "id": "vyFtkgbq5CIB",
    "outputId": "2ae645b3-60d7-45b6-f334-10b689fa72af"
   },
   "outputs": [
    {
     "data": {
      "text/plain": [
       "[1, 2, 3, 4]"
      ]
     },
     "execution_count": 11,
     "metadata": {},
     "output_type": "execute_result"
    }
   ],
   "source": [
    "z[:-2]"
   ]
  },
  {
   "cell_type": "code",
   "execution_count": 6,
   "metadata": {
    "colab": {
     "base_uri": "https://localhost:8080/"
    },
    "executionInfo": {
     "elapsed": 459,
     "status": "ok",
     "timestamp": 1664247409586,
     "user": {
      "displayName": "NIWAN WATTANAKITRUNGROJ",
      "userId": "04851413051165022286"
     },
     "user_tz": -420
    },
    "id": "sStGuSkp4A-6",
    "outputId": "54214285-2640-4985-f261-d7b72382b19c"
   },
   "outputs": [
    {
     "data": {
      "text/plain": [
       "[1, 2, 3, 4, 5, 6]"
      ]
     },
     "execution_count": 6,
     "metadata": {},
     "output_type": "execute_result"
    }
   ],
   "source": [
    "x + y"
   ]
  },
  {
   "cell_type": "code",
   "execution_count": 7,
   "metadata": {
    "id": "VJKdSVkh4CPr"
   },
   "outputs": [],
   "source": [
    "a = ['pen','apple','asd']\n",
    "b = ['student']"
   ]
  },
  {
   "cell_type": "code",
   "execution_count": 8,
   "metadata": {
    "colab": {
     "base_uri": "https://localhost:8080/"
    },
    "executionInfo": {
     "elapsed": 3,
     "status": "ok",
     "timestamp": 1664247474334,
     "user": {
      "displayName": "NIWAN WATTANAKITRUNGROJ",
      "userId": "04851413051165022286"
     },
     "user_tz": -420
    },
    "id": "uf69nKQk4Q1c",
    "outputId": "8db63c40-320c-42d3-c7e6-070af02a7416"
   },
   "outputs": [
    {
     "data": {
      "text/plain": [
       "['pen', 'apple', 'asd', 'student']"
      ]
     },
     "execution_count": 8,
     "metadata": {},
     "output_type": "execute_result"
    }
   ],
   "source": [
    "a + b"
   ]
  },
  {
   "cell_type": "markdown",
   "metadata": {
    "id": "F9K1SFu-5ZKt"
   },
   "source": [
    "#### Tuples\n",
    "- อยู่ระหว่าง ( ) คั่นด้วย , \n",
    "- ไม่สามารถเปลี่ยนค่าตัวแปลได้"
   ]
  },
  {
   "cell_type": "code",
   "execution_count": null,
   "metadata": {
    "id": "lHfnrNJb4SMH"
   },
   "outputs": [],
   "source": [
    "s = (100,120)"
   ]
  },
  {
   "cell_type": "code",
   "execution_count": null,
   "metadata": {
    "id": "XWBlq5co5u6F"
   },
   "outputs": [],
   "source": [
    "s[0] = 150  #รันไม่ผ่าน เพราะ tuple เปลี่ยนค่าไม่ได้ "
   ]
  },
  {
   "cell_type": "code",
   "execution_count": null,
   "metadata": {
    "colab": {
     "base_uri": "https://localhost:8080/"
    },
    "executionInfo": {
     "elapsed": 4,
     "status": "ok",
     "timestamp": 1664247989628,
     "user": {
      "displayName": "NIWAN WATTANAKITRUNGROJ",
      "userId": "04851413051165022286"
     },
     "user_tz": -420
    },
    "id": "OcihdZzh5xLZ",
    "outputId": "6ccba8cc-6d89-4f4c-e28d-2f753bea834d"
   },
   "outputs": [],
   "source": [
    "#list\n",
    "t = [100,120]\n",
    "t[0] = 150 \n",
    "t"
   ]
  },
  {
   "cell_type": "markdown",
   "metadata": {
    "id": "d-KtzP726fj7"
   },
   "source": [
    "#### Set\n",
    "\n",
    "- อยู่ระหว่าง {}  คั่นด้วย ,"
   ]
  },
  {
   "cell_type": "code",
   "execution_count": null,
   "metadata": {
    "id": "Gy0vJk7c6P-v"
   },
   "outputs": [],
   "source": [
    "a = {1,2,3,3}"
   ]
  },
  {
   "cell_type": "code",
   "execution_count": null,
   "metadata": {
    "colab": {
     "base_uri": "https://localhost:8080/"
    },
    "executionInfo": {
     "elapsed": 2,
     "status": "ok",
     "timestamp": 1664248102432,
     "user": {
      "displayName": "NIWAN WATTANAKITRUNGROJ",
      "userId": "04851413051165022286"
     },
     "user_tz": -420
    },
    "id": "AqcVu-pl6qno",
    "outputId": "f38c3f5d-0955-410e-f3e5-3456e1c8bd63"
   },
   "outputs": [],
   "source": [
    "a"
   ]
  },
  {
   "cell_type": "markdown",
   "metadata": {
    "id": "sdtBuoQ564JN"
   },
   "source": [
    "#### Dectionary \n",
    "\n",
    "- syntax  {'key1':val1, 'key2':value}"
   ]
  },
  {
   "cell_type": "code",
   "execution_count": null,
   "metadata": {
    "id": "RvyVzNoh6_81"
   },
   "outputs": [],
   "source": [
    "product1 = {'name':\"pencil\", 'price':25}"
   ]
  },
  {
   "cell_type": "code",
   "execution_count": null,
   "metadata": {
    "colab": {
     "base_uri": "https://localhost:8080/",
     "height": 35
    },
    "executionInfo": {
     "elapsed": 8,
     "status": "ok",
     "timestamp": 1664248333672,
     "user": {
      "displayName": "NIWAN WATTANAKITRUNGROJ",
      "userId": "04851413051165022286"
     },
     "user_tz": -420
    },
    "id": "caLJ10x96v9t",
    "outputId": "7540c982-93f4-4862-ff44-2db816bb0eff"
   },
   "outputs": [],
   "source": [
    "product1['name']"
   ]
  },
  {
   "cell_type": "code",
   "execution_count": null,
   "metadata": {
    "colab": {
     "base_uri": "https://localhost:8080/"
    },
    "executionInfo": {
     "elapsed": 2,
     "status": "ok",
     "timestamp": 1664248359757,
     "user": {
      "displayName": "NIWAN WATTANAKITRUNGROJ",
      "userId": "04851413051165022286"
     },
     "user_tz": -420
    },
    "id": "XVCuFN2t7j_0",
    "outputId": "f1018c00-0bb2-440c-8845-6fc25a9fa85a"
   },
   "outputs": [],
   "source": [
    "product1['price']"
   ]
  },
  {
   "cell_type": "markdown",
   "metadata": {
    "id": "LH3cb-qX7wVX"
   },
   "source": [
    "### Control Statement"
   ]
  },
  {
   "cell_type": "code",
   "execution_count": null,
   "metadata": {
    "colab": {
     "base_uri": "https://localhost:8080/"
    },
    "executionInfo": {
     "elapsed": 3,
     "status": "ok",
     "timestamp": 1664248515594,
     "user": {
      "displayName": "NIWAN WATTANAKITRUNGROJ",
      "userId": "04851413051165022286"
     },
     "user_tz": -420
    },
    "id": "-aS52d7j7qPJ",
    "outputId": "8148a333-4cde-42ed-a304-a72aa015b83a"
   },
   "outputs": [],
   "source": [
    "numbers = [3,7,9]\n",
    "for i in numbers:\n",
    "    print(i)"
   ]
  },
  {
   "cell_type": "code",
   "execution_count": null,
   "metadata": {
    "colab": {
     "base_uri": "https://localhost:8080/"
    },
    "executionInfo": {
     "elapsed": 417,
     "status": "ok",
     "timestamp": 1664248627832,
     "user": {
      "displayName": "NIWAN WATTANAKITRUNGROJ",
      "userId": "04851413051165022286"
     },
     "user_tz": -420
    },
    "id": "zOgBt06k8Fnw",
    "outputId": "64758bc7-d1a1-41ff-9ecb-2332e46d8c87"
   },
   "outputs": [],
   "source": [
    "for i in range(1,10,2):\n",
    "    print(i)"
   ]
  },
  {
   "cell_type": "code",
   "execution_count": null,
   "metadata": {
    "colab": {
     "base_uri": "https://localhost:8080/"
    },
    "executionInfo": {
     "elapsed": 455,
     "status": "ok",
     "timestamp": 1664248808102,
     "user": {
      "displayName": "NIWAN WATTANAKITRUNGROJ",
      "userId": "04851413051165022286"
     },
     "user_tz": -420
    },
    "id": "daIytAYq8eJj",
    "outputId": "c11e699f-52fd-4095-c3d3-c8522c06e2ff"
   },
   "outputs": [],
   "source": [
    "a = 5\n",
    "while a > 3:\n",
    "    print('Hello')\n",
    "    a = a-1"
   ]
  },
  {
   "cell_type": "markdown",
   "metadata": {
    "id": "cEL_aFKD9dKj"
   },
   "source": [
    "### Numpy"
   ]
  },
  {
   "cell_type": "code",
   "execution_count": null,
   "metadata": {
    "colab": {
     "base_uri": "https://localhost:8080/"
    },
    "executionInfo": {
     "elapsed": 4,
     "status": "ok",
     "timestamp": 1664249238086,
     "user": {
      "displayName": "NIWAN WATTANAKITRUNGROJ",
      "userId": "04851413051165022286"
     },
     "user_tz": -420
    },
    "id": "ch8YJe7J87yY",
    "outputId": "fb988237-3213-46c4-87d8-b705cf7a572a"
   },
   "outputs": [],
   "source": [
    "import numpy as np\n",
    "\n",
    "#x = [1,2,3]\n",
    "#y = [4,5,6]\n",
    "#z = x+y\n",
    "\n",
    "x = np.array([1,2,3])\n",
    "y = np.array([4,5,6])\n",
    "z = x + y\n",
    "z"
   ]
  },
  {
   "cell_type": "markdown",
   "metadata": {
    "id": "6UfKLi0J_VqL"
   },
   "source": [
    "## Vector"
   ]
  },
  {
   "cell_type": "markdown",
   "metadata": {},
   "source": [
    "\n",
    "$ x = \\begin{bmatrix} 1 \\\\ 2 \\\\ 3 \\\\ 4 \\end{bmatrix},  \n",
    " y = \\begin{bmatrix} 6 \\\\ 7 \\\\ 8 \\\\ 9 \\end{bmatrix} $\n",
    "\n"
   ]
  },
  {
   "cell_type": "code",
   "execution_count": null,
   "metadata": {
    "colab": {
     "base_uri": "https://localhost:8080/"
    },
    "executionInfo": {
     "elapsed": 4,
     "status": "ok",
     "timestamp": 1664249524276,
     "user": {
      "displayName": "NIWAN WATTANAKITRUNGROJ",
      "userId": "04851413051165022286"
     },
     "user_tz": -420
    },
    "id": "Vhk4Kmws-pKW",
    "outputId": "c2f2b117-133a-4420-e221-c5467b1c6525",
    "tags": []
   },
   "outputs": [],
   "source": [
    "import numpy as np\n",
    "\n",
    "#vector\n",
    "x = np.array([1,2,3,4])\n",
    "y = np.array([6,7,8,9])\n",
    "x + y"
   ]
  },
  {
   "cell_type": "code",
   "execution_count": null,
   "metadata": {
    "tags": []
   },
   "outputs": [],
   "source": [
    "# Reshape x,y to be a column vector\n",
    "x = x.reshape((-1, 1))\n",
    "y = y.reshape((-1, 1))"
   ]
  },
  {
   "cell_type": "code",
   "execution_count": null,
   "metadata": {
    "tags": []
   },
   "outputs": [],
   "source": [
    "# Calculate Euclidean norm\n",
    "euclidean_norm_x = np.linalg.norm(x)\n",
    "euclidean_norm_y = np.linalg.norm(y)\n",
    "\n",
    "# Calculate Manhattan norm (L1 norm)\n",
    "manhattan_norm_x = np.linalg.norm(x, ord=1)\n",
    "manhattan_norm_y = np.linalg.norm(y, ord=1)\n",
    "\n",
    "# Calculate infinity norm (L∞ norm)\n",
    "infinity_norm_x = np.linalg.norm(x, ord=np.inf)\n",
    "infinity_norm_y = np.linalg.norm(y, ord=np.inf)\n",
    "\n",
    "print(\"Euclidean norm of x:\", euclidean_norm_x)\n",
    "print(\"Euclidean norm of y:\", euclidean_norm_y)\n",
    "print(\"Manhattan norm of x:\", manhattan_norm_x)\n",
    "print(\"Manhattan norm of y:\", manhattan_norm_y)\n",
    "print(\"Infinity norm of x:\", infinity_norm_x)\n",
    "print(\"Infinity norm of y:\", infinity_norm_y)"
   ]
  },
  {
   "cell_type": "markdown",
   "metadata": {},
   "source": [
    "**Example 1:**\n",
    "Calculate the **Euclidean norm** (2-norm) of the vector $\\mathbf{v} = \\begin{bmatrix} 3 \\\\ -4 \\\\ 5 \\end{bmatrix}$."
   ]
  },
  {
   "cell_type": "code",
   "execution_count": null,
   "metadata": {
    "tags": []
   },
   "outputs": [],
   "source": [
    "v = np.array([3,-4,5])\n",
    "v = v.reshape((-1, 1))\n",
    "np.linalg.norm(v)"
   ]
  },
  {
   "cell_type": "markdown",
   "metadata": {},
   "source": [
    "**Example 2:**\n",
    "Find the **Manhattan norm** (1-norm) of the vector $\\mathbf{u} = \\begin{bmatrix} 2 \\\\ -1 \\\\ 3 \\end{bmatrix}$."
   ]
  },
  {
   "cell_type": "code",
   "execution_count": null,
   "metadata": {},
   "outputs": [],
   "source": []
  },
  {
   "cell_type": "markdown",
   "metadata": {},
   "source": [
    "**Example 3:**\n",
    "Calculate the **infinity norm** ($\\infty$-norm) of the vector $\\mathbf{w} = \\begin{bmatrix} 1 \\\\ -7 \\\\ 4 \\end{bmatrix}$."
   ]
  },
  {
   "cell_type": "code",
   "execution_count": null,
   "metadata": {},
   "outputs": [],
   "source": []
  },
  {
   "cell_type": "markdown",
   "metadata": {},
   "source": [
    "**Example 4:**\n",
    "Given two vectors $\\mathbf{a} = \\begin{bmatrix} 2 \\\\ 5 \\end{bmatrix}$ and $\\mathbf{b} = \\begin{bmatrix} -3 \\\\ 1 \\end{bmatrix}$, find the **Euclidean distance** between them.\n"
   ]
  },
  {
   "cell_type": "code",
   "execution_count": null,
   "metadata": {
    "tags": []
   },
   "outputs": [],
   "source": [
    "a = np.array([2,5])\n",
    "b = np.array([-3,1])\n",
    "a = a.reshape((-1,1))\n",
    "b = b.reshape((-1,1))\n",
    "\n",
    "euclidean_distance = np.linalg.norm(a - b)\n",
    "print(\"Euclidean distance between a and b:\", euclidean_distance)"
   ]
  },
  {
   "cell_type": "code",
   "execution_count": null,
   "metadata": {},
   "outputs": [],
   "source": []
  },
  {
   "cell_type": "markdown",
   "metadata": {},
   "source": [
    "**Example 5:**\n",
    "Compute the **Manhattan distance** between vectors \n",
    " $\\mathbf{p} = \\begin{bmatrix} 1 \\\\ 0 \\\\ -2 \\end{bmatrix}$ and $\\mathbf{q} = \\begin{bmatrix} -3 \\\\ 2 \\\\ 1 \\end{bmatrix}$."
   ]
  },
  {
   "cell_type": "code",
   "execution_count": null,
   "metadata": {},
   "outputs": [],
   "source": []
  },
  {
   "cell_type": "markdown",
   "metadata": {
    "tags": []
   },
   "source": [
    "**Example 6:**\n",
    "Find the **Chebyshev distance** (maximum norm) between vectors $\\mathbf{x} = \\begin{bmatrix} 2 \\\\ -4 \\\\ 7 \\end{bmatrix}$ and $\\mathbf{y} = \\begin{bmatrix} -1 \\\\ 6 \\\\ 3 \\end{bmatrix}$."
   ]
  },
  {
   "cell_type": "code",
   "execution_count": null,
   "metadata": {},
   "outputs": [],
   "source": []
  },
  {
   "cell_type": "markdown",
   "metadata": {},
   "source": [
    "### Unit vector"
   ]
  },
  {
   "cell_type": "markdown",
   "metadata": {},
   "source": [
    "**Example 1:**\n",
    "Find the unit vector in the direction of the vector $\\mathbf{v} = \\begin{bmatrix} 3 \\\\ -4 \\\\ 5 \\end{bmatrix}$."
   ]
  },
  {
   "cell_type": "code",
   "execution_count": null,
   "metadata": {
    "tags": []
   },
   "outputs": [],
   "source": [
    "import numpy as np\n",
    "\n",
    "v = np.array([3, -4, 5])\n",
    "v = v.reshape((-1,1))\n",
    "\n",
    "# Calculate the Euclidean norm of vector v\n",
    "norm_v = np.linalg.norm(v)\n",
    "\n",
    "# Calculate the unit vector in the direction of v\n",
    "unit_vector = v / norm_v\n",
    "\n",
    "print(\"Unit vector in the direction of v:\\n\", unit_vector)\n"
   ]
  },
  {
   "cell_type": "markdown",
   "metadata": {},
   "source": [
    "**Example 2:**\n",
    "Define the unit vector in the direction of vector $\\mathbf{v} = \\begin{bmatrix} 3 \\\\ -4 \\\\ 0 \\end{bmatrix}$. \n"
   ]
  },
  {
   "cell_type": "code",
   "execution_count": null,
   "metadata": {
    "tags": []
   },
   "outputs": [],
   "source": []
  },
  {
   "cell_type": "markdown",
   "metadata": {},
   "source": [
    "### Dot product"
   ]
  },
  {
   "cell_type": "markdown",
   "metadata": {},
   "source": [
    "**Example:** \n",
    "\n",
    "$ \\mathbf{u} = \n",
    "\\begin{bmatrix}\n",
    "1 \\\\2 \\\\ 3\n",
    "\\end{bmatrix},\n",
    "\\mathbf{v} = \n",
    "\\begin{bmatrix}\n",
    "4 \\\\ 5 \\\\ 6\n",
    "\\end{bmatrix} $\n",
    "\n",
    "$ \\langle\\mathbf{u}, \\mathbf{v}\\rangle = \\mathbf{u}\\cdot \\mathbf{v} = ? $"
   ]
  },
  {
   "cell_type": "code",
   "execution_count": null,
   "metadata": {
    "tags": []
   },
   "outputs": [],
   "source": [
    "import numpy as np\n",
    "u = np.array([1,2,3])\n",
    "v = np.array([3, -4, 5])\n",
    "\n",
    "#dot_product = np.dot(u, v)\n",
    "#np.matmul(u,v)\n",
    "\n",
    "dot_product = u@v\n",
    "print(\"Dot product of u and v:\", dot_product)"
   ]
  },
  {
   "cell_type": "code",
   "execution_count": null,
   "metadata": {
    "tags": []
   },
   "outputs": [],
   "source": [
    "import numpy as np\n",
    "u = np.array([1,2,3])\n",
    "v = np.array([3, -4, 5])\n",
    "u = u.reshape((-1,1))\n",
    "v = v.reshape((-1,1))\n",
    "\n",
    "#dot_product = np.dot(u.T, v)\n",
    "dot_product = u.T@v\n",
    "print(\"Dot product of u and v:\", dot_product)"
   ]
  },
  {
   "cell_type": "code",
   "execution_count": null,
   "metadata": {},
   "outputs": [],
   "source": []
  },
  {
   "cell_type": "markdown",
   "metadata": {},
   "source": [
    "**Example:** \n",
    "Given $ \\mathbf{a} = \\begin{bmatrix} 2 \\\\ -1 \\\\ 0 \\end{bmatrix}, \\mathbf{b} = \\begin{bmatrix} 1 \\\\ 2 \\\\ 4 \\end{bmatrix} $. Check whether a and b are orthogonal."
   ]
  },
  {
   "cell_type": "code",
   "execution_count": null,
   "metadata": {
    "tags": []
   },
   "outputs": [],
   "source": [
    "import numpy as np\n",
    "u = np.array([2,-1,0])\n",
    "v = np.array([1, 2, 4])\n",
    "u = u.reshape((-1,1))\n",
    "v = v.reshape((-1,1))\n",
    "\n",
    "#dot_product = np.dot(u.T, v)\n",
    "dot_product = u.T@v\n",
    "print(\"Dot product of u and v:\", dot_product)"
   ]
  },
  {
   "cell_type": "markdown",
   "metadata": {},
   "source": [
    "Ans: The dot product of the vectors **a** and **b**  is 0. Thus, they are orthogonal."
   ]
  },
  {
   "cell_type": "code",
   "execution_count": null,
   "metadata": {},
   "outputs": [],
   "source": []
  },
  {
   "cell_type": "markdown",
   "metadata": {},
   "source": [
    "**Problem 8:**\n",
    "Given vectors $\\mathbf{p} = \\begin{bmatrix} 2 \\\\ -1 \\\\ 3 \\end{bmatrix}$ and $\\mathbf{q} = \\begin{bmatrix} 1 \\\\ 1 \\\\ 2 \\end{bmatrix}$, find\n",
    "the projection of $\\mathbf{p}$ onto $\\mathbf{q}$."
   ]
  },
  {
   "cell_type": "code",
   "execution_count": null,
   "metadata": {
    "tags": []
   },
   "outputs": [],
   "source": [
    "import numpy as np\n",
    "\n",
    "p = np.array([2, -1, 3])\n",
    "q = np.array([1, 1, 2])\n",
    "\n",
    "# Calculate the dot product of p and q\n",
    "dot_product = np.dot(p, q)\n",
    "\n",
    "# Calculate the squared Euclidean norm of q\n",
    "norm_squared = np.linalg.norm(q) ** 2\n",
    "\n",
    "# Calculate the projection of p onto q\n",
    "projection = (dot_product / norm_squared) * q\n",
    "\n",
    "print(\"Projection of p onto q:\", projection)"
   ]
  },
  {
   "cell_type": "markdown",
   "metadata": {},
   "source": [
    "**Problem 9:**\n",
    "Find the projection of vector $\\mathbf{x} = \\begin{bmatrix} 1 \\\\ 0 \\\\ -1 \\end{bmatrix}$ onto the vector $\\mathbf{y} = \\begin{bmatrix} 2 \\\\ 1 \\\\ 2 \\end{bmatrix}$."
   ]
  },
  {
   "cell_type": "code",
   "execution_count": null,
   "metadata": {},
   "outputs": [],
   "source": []
  },
  {
   "cell_type": "markdown",
   "metadata": {
    "tags": []
   },
   "source": [
    "**Problem 10:**\n",
    "Find the projection of vector $\\mathbf{u} = \\begin{bmatrix} 4 \\\\ -3 \\\\ 1 \\end{bmatrix}$ onto the vector $\\mathbf{v} = \\begin{bmatrix} 1 \\\\ 2 \\\\ -2 \\end{bmatrix}$."
   ]
  },
  {
   "cell_type": "code",
   "execution_count": null,
   "metadata": {},
   "outputs": [],
   "source": []
  },
  {
   "cell_type": "markdown",
   "metadata": {},
   "source": [
    "## Matrix"
   ]
  },
  {
   "cell_type": "markdown",
   "metadata": {},
   "source": [
    "\n",
    "$\n",
    "A = \\begin{bmatrix}\n",
    "1 & 2 & 3 \\\\\n",
    "4 & 5 & 6 \\\\\n",
    "7 & 8 & 9 \\\\\n",
    "\\end{bmatrix},     \n",
    "B = \\begin{bmatrix}\n",
    "10 & 20 & 30 \\\\\n",
    "11 & 12 & 13 \\\\\n",
    "\\end{bmatrix}\n",
    "$\n",
    "\n"
   ]
  },
  {
   "cell_type": "code",
   "execution_count": null,
   "metadata": {
    "id": "I2hsemen_4yx",
    "tags": []
   },
   "outputs": [],
   "source": [
    "#Matrix \n",
    "\n",
    "A = np.array([[1,2,3], \n",
    "              [4,5,6], \n",
    "              [7,8,9] ])\n",
    "B = np.array([[10,20,30],\n",
    "              [11,12,13] ])"
   ]
  },
  {
   "cell_type": "code",
   "execution_count": null,
   "metadata": {
    "colab": {
     "base_uri": "https://localhost:8080/"
    },
    "executionInfo": {
     "elapsed": 5,
     "status": "ok",
     "timestamp": 1664249636896,
     "user": {
      "displayName": "NIWAN WATTANAKITRUNGROJ",
      "userId": "04851413051165022286"
     },
     "user_tz": -420
    },
    "id": "Fy-MkHjGAdVo",
    "outputId": "e2472e7e-10fe-472b-f516-8efeac6bce08"
   },
   "outputs": [],
   "source": [
    "A.shape"
   ]
  },
  {
   "cell_type": "code",
   "execution_count": null,
   "metadata": {
    "colab": {
     "base_uri": "https://localhost:8080/"
    },
    "executionInfo": {
     "elapsed": 482,
     "status": "ok",
     "timestamp": 1664249822985,
     "user": {
      "displayName": "NIWAN WATTANAKITRUNGROJ",
      "userId": "04851413051165022286"
     },
     "user_tz": -420
    },
    "id": "JLRRLkJtAcUi",
    "outputId": "e42b107d-8cd7-4794-e76d-9a6340e03ed8"
   },
   "outputs": [],
   "source": [
    "print('Matrix A:\\n', A)\n",
    "print('Matrix B:\\n', B)"
   ]
  },
  {
   "cell_type": "code",
   "execution_count": null,
   "metadata": {
    "colab": {
     "base_uri": "https://localhost:8080/"
    },
    "executionInfo": {
     "elapsed": 460,
     "status": "ok",
     "timestamp": 1664249935997,
     "user": {
      "displayName": "NIWAN WATTANAKITRUNGROJ",
      "userId": "04851413051165022286"
     },
     "user_tz": -420
    },
    "id": "8WYaIb56Ah-y",
    "outputId": "e8ede024-7a0c-42af-cab6-20bd16745176",
    "tags": []
   },
   "outputs": [],
   "source": [
    "#B*A\n",
    "B@A"
   ]
  },
  {
   "cell_type": "code",
   "execution_count": null,
   "metadata": {
    "id": "lW6ZQyTrBVyp",
    "tags": []
   },
   "outputs": [],
   "source": [
    "A@B.T"
   ]
  },
  {
   "cell_type": "code",
   "execution_count": null,
   "metadata": {
    "colab": {
     "base_uri": "https://localhost:8080/"
    },
    "executionInfo": {
     "elapsed": 464,
     "status": "ok",
     "timestamp": 1664250326309,
     "user": {
      "displayName": "NIWAN WATTANAKITRUNGROJ",
      "userId": "04851413051165022286"
     },
     "user_tz": -420
    },
    "id": "6oNmRZxDCvXj",
    "outputId": "fac3e1ff-7517-4965-85d9-65091abcc362",
    "tags": []
   },
   "outputs": [],
   "source": [
    "A[0,:] = [5,2,1]\n",
    "A"
   ]
  },
  {
   "cell_type": "markdown",
   "metadata": {},
   "source": [
    "### Inverse and Determinant"
   ]
  },
  {
   "cell_type": "code",
   "execution_count": null,
   "metadata": {
    "tags": []
   },
   "outputs": [],
   "source": [
    "import numpy as np\n",
    "\n",
    "A = np.array([[1, 2, 3],\n",
    "              [4, 5, 6],\n",
    "              [7, 8, 9]])\n",
    "\n",
    "# A[0,:] = [5,2,1]\n",
    "\n",
    "# Calculate the inverse of matrix A\n",
    "inverse_A = np.linalg.inv(A)\n",
    "\n",
    "# Calculate the determinant of matrix A\n",
    "det_A = np.linalg.det(A)\n",
    "\n",
    "print(\"Inverse of A:\")\n",
    "print(inverse_A)\n",
    "\n",
    "print(\"Determinant of A:\", det_A)\n"
   ]
  },
  {
   "cell_type": "markdown",
   "metadata": {},
   "source": [
    "### Identity Matrix"
   ]
  },
  {
   "cell_type": "code",
   "execution_count": null,
   "metadata": {
    "tags": []
   },
   "outputs": [],
   "source": [
    "import numpy as np\n",
    "\n",
    "# Create a 3x3 identity matrix\n",
    "identity_matrix_3x3 = np.identity(3)\n",
    "\n",
    "# Create a 4x4 identity matrix\n",
    "identity_matrix_4x4 = np.identity(4)\n",
    "# identity_matrix_4x4 = np.eye(4)\n",
    "\n",
    "print(\"3x3 Identity Matrix:\")\n",
    "print(identity_matrix_3x3)\n",
    "\n",
    "print(\"4x4 Identity Matrix:\")\n",
    "print(identity_matrix_4x4)\n"
   ]
  },
  {
   "cell_type": "markdown",
   "metadata": {},
   "source": [
    "### Solve Linear Eqs. Sys.\n",
    "\n",
    "$\\begin{align*}\n",
    "2x - 3y &= 5 \\\\\n",
    "x + 2y &= -3 \n",
    "\\end{align*}$"
   ]
  },
  {
   "cell_type": "code",
   "execution_count": null,
   "metadata": {
    "tags": []
   },
   "outputs": [],
   "source": [
    "import numpy as np\n",
    "\n",
    "# Coefficients matrix\n",
    "A = np.array([[2, -3],\n",
    "              [1, 2]])\n",
    "\n",
    "# Constants vector\n",
    "B = np.array([5, -3])\n",
    "\n",
    "# Solve the system of equations\n",
    "# inverse_A = np.linalg.inv(A)\n",
    "solution = inverse_A@B\n",
    "\n",
    "solution = np.linalg.solve(A, B)\n",
    "\n",
    "print(\"Solution:\")\n",
    "print(\"x =\", solution[0])\n",
    "print(\"y =\", solution[1])\n"
   ]
  },
  {
   "cell_type": "markdown",
   "metadata": {},
   "source": [
    "**Exercise 7.** Solve for \\(x\\), \\(y\\), and \\(z\\):\n",
    "\n",
    "$\\begin{align*}\n",
    "x + y + z &= 6 \\\\\n",
    "2y + 5z &= -4 \\\\\n",
    "2x + 5y - z &= 27\n",
    "\\end{align*}$"
   ]
  },
  {
   "cell_type": "code",
   "execution_count": null,
   "metadata": {},
   "outputs": [],
   "source": []
  },
  {
   "cell_type": "markdown",
   "metadata": {},
   "source": [
    "**Exercise 8**. Solve the system of equations\n",
    "\n",
    "$\\begin{align*}\n",
    "3x - y + 2z &= 1 \\\\\n",
    "2x + y - z &= 4 \\\\\n",
    "x + y + z &= 3 \\\\\n",
    "\\end{align*}$\n"
   ]
  },
  {
   "cell_type": "code",
   "execution_count": null,
   "metadata": {},
   "outputs": [],
   "source": []
  },
  {
   "cell_type": "markdown",
   "metadata": {},
   "source": [
    "**Exercise 10.** Find inverse of coefficient matrix and solve the following two equation systems: \n",
    "\n",
    "Solve for \\( x \\), \\( y \\), \\( z \\), and \\( w \\):\n",
    "\n",
    "$\\begin{align*}\n",
    "x + y + z + w &= 10 \\\\\n",
    "2x - y + 2z - w &= 3 \\\\\n",
    "x + 2y - 3z + w &= 4 \\\\\n",
    "3x - y + z - 2w &= 2 \\\\\n",
    "\\end{align*}$\n",
    "\n",
    "Solve for \\( x \\), \\( y \\), \\( z \\), and \\( w \\):\n",
    "\n",
    "$\\begin{align*}\n",
    "x + y + z + w &= 5 \\\\\n",
    "2x - y + 2z - w &= 1 \\\\\n",
    "x + 2y - 3z + w &= 2 \\\\\n",
    "3x - y + z - 2w &= 0 \\\\\n",
    "\\end{align*}$"
   ]
  },
  {
   "cell_type": "code",
   "execution_count": null,
   "metadata": {},
   "outputs": [],
   "source": []
  },
  {
   "cell_type": "markdown",
   "metadata": {
    "id": "_eWnT1G2J4El"
   },
   "source": [
    "## Eigenvector & Eigenvalue"
   ]
  },
  {
   "cell_type": "code",
   "execution_count": null,
   "metadata": {
    "tags": []
   },
   "outputs": [],
   "source": [
    "import numpy as np\n",
    "\n",
    "# Define the matrix A\n",
    "# A = np.array([[3, 0],  #no inverse\n",
    "#               [8, -1]])\n",
    "\n",
    "A = np.array([[-1, 3],\n",
    "              [2, 0]])\n",
    "\n",
    "# Calculate eigenvalues and eigenvectors\n",
    "eigenvalues, eigenvectors = np.linalg.eig(A)\n",
    "\n",
    "print(\"Eigenvalues:\", eigenvalues)\n",
    "print(\"Eigenvectors:\")\n",
    "print(eigenvectors)\n"
   ]
  },
  {
   "cell_type": "code",
   "execution_count": null,
   "metadata": {
    "tags": []
   },
   "outputs": [],
   "source": [
    " np.linalg.norm(eigenvectors[:,1])"
   ]
  },
  {
   "cell_type": "code",
   "execution_count": null,
   "metadata": {
    "tags": []
   },
   "outputs": [],
   "source": [
    "import numpy as np\n",
    "\n",
    "# Original matrix A\n",
    "A = np.array([[-1, 3],\n",
    "              [2, 0]])\n",
    "\n",
    "# Calculate eigenvalues and eigenvectors\n",
    "eigenvalues, eigenvectors = np.linalg.eig(A)\n",
    "\n",
    "# Diagonal matrix L\n",
    "L = np.diag(eigenvalues)\n",
    "\n",
    "# Reconstructed matrix\n",
    "reconstructed_matrix = eigenvectors @ L @ np.linalg.inv(eigenvectors)\n",
    "\n",
    "# Check if the reconstructed matrix is approximately equal to the original matrix A\n",
    "print(\"Is reconstructed matrix close to original matrix A:\",\n",
    "      np.allclose(A, reconstructed_matrix))\n",
    "\n",
    "print(\"A:\\n\", A)\n",
    "print(\"Reconstructed_matrix:\\n\", reconstructed_matrix)"
   ]
  },
  {
   "cell_type": "code",
   "execution_count": null,
   "metadata": {
    "id": "O1MoKJfWLnYS"
   },
   "outputs": [],
   "source": []
  },
  {
   "cell_type": "markdown",
   "metadata": {
    "id": "qjKJPTI8NTMb"
   },
   "source": [
    "## Eigenface"
   ]
  },
  {
   "cell_type": "code",
   "execution_count": null,
   "metadata": {
    "tags": []
   },
   "outputs": [],
   "source": [
    "import numpy as np\n",
    "import matplotlib.pyplot as plt\n",
    "from sklearn.datasets import fetch_olivetti_faces\n",
    "# from scipy.linalg import eig\n",
    "\n",
    "# Load the Olivetti Faces dataset\n",
    "faces_data = fetch_olivetti_faces(shuffle=True, random_state=42)\n",
    "\n",
    "# Extract the image data from the dataset\n",
    "X = faces_data.data"
   ]
  },
  {
   "cell_type": "code",
   "execution_count": null,
   "metadata": {
    "tags": []
   },
   "outputs": [],
   "source": [
    "X.shape"
   ]
  },
  {
   "cell_type": "code",
   "execution_count": null,
   "metadata": {
    "tags": []
   },
   "outputs": [],
   "source": [
    "\n",
    "plt.imshow(X[0].reshape(64, 64), cmap='gray')\n"
   ]
  },
  {
   "cell_type": "code",
   "execution_count": null,
   "metadata": {
    "tags": []
   },
   "outputs": [],
   "source": [
    "# Calculate the covariance matrix\n",
    "cov_matrix = np.cov(X.T)  # Transpose X to get variables as rows and observations as columns"
   ]
  },
  {
   "cell_type": "code",
   "execution_count": null,
   "metadata": {
    "tags": []
   },
   "outputs": [],
   "source": [
    "cov_matrix.shape"
   ]
  },
  {
   "cell_type": "code",
   "execution_count": null,
   "metadata": {
    "tags": []
   },
   "outputs": [],
   "source": [
    "# Find the eigenvalues and eigenvectors\n",
    "# eigenvalues, eigenvectors = eig(cov_matrix)\n",
    "eigenvalues, eigenvectors = np.linalg.eig(cov_matrix)\n"
   ]
  },
  {
   "cell_type": "code",
   "execution_count": null,
   "metadata": {
    "tags": []
   },
   "outputs": [],
   "source": [
    "eigenvalues[:5]"
   ]
  },
  {
   "cell_type": "code",
   "execution_count": null,
   "metadata": {
    "tags": []
   },
   "outputs": [],
   "source": [
    "# Use the top 5 eigenvalues and eigenvectors to transform the data\n",
    "num_eigenfaces = 5\n",
    "eigenfaces = eigenvectors[:, :num_eigenfaces]\n",
    "transformed_data = np.dot(X, eigenfaces)\n"
   ]
  },
  {
   "cell_type": "code",
   "execution_count": null,
   "metadata": {
    "tags": []
   },
   "outputs": [],
   "source": [
    "eigenfaces.shape"
   ]
  },
  {
   "cell_type": "code",
   "execution_count": null,
   "metadata": {
    "tags": []
   },
   "outputs": [],
   "source": [
    "transformed_data.shape"
   ]
  },
  {
   "cell_type": "code",
   "execution_count": null,
   "metadata": {
    "tags": []
   },
   "outputs": [],
   "source": [
    "# Display the first original face\n",
    "plt.figure(figsize=(8, 4))\n",
    "plt.subplot(1, 2, 1)\n",
    "original_face = X[0].reshape(64, 64)\n",
    "plt.imshow(original_face, cmap='gray')\n",
    "plt.title(\"Original Face\")\n",
    "\n",
    "# Display the first face transformed by the top 5 eigenfaces\n",
    "reconstructed_face = np.dot(transformed_data[0], eigenfaces.T)\n",
    "reconstructed_face = reconstructed_face + np.mean(X, axis=0)  # Add back the mean\n",
    "reconstructed_face = np.real(reconstructed_face)  # Convert to real numbers\n",
    "plt.subplot(1, 2, 2)\n",
    "plt.imshow(reconstructed_face.reshape(64, 64), cmap='gray')\n",
    "plt.title(\"Transformed by Top 5 Eigenfaces\")\n",
    "\n",
    "plt.show()"
   ]
  },
  {
   "cell_type": "markdown",
   "metadata": {},
   "source": [
    "*Tranformed 2D data*"
   ]
  },
  {
   "cell_type": "code",
   "execution_count": null,
   "metadata": {
    "tags": []
   },
   "outputs": [],
   "source": [
    "# Use the top 2 eigenvalues/eigenvectors to transform the data\n",
    "num_components = 2\n",
    "top_eigenvectors = eigenvectors[:, :num_components]\n",
    "transformed_data = np.dot(X, top_eigenvectors)\n",
    "\n",
    "#  Plot the 2D data\n",
    "plt.figure(figsize=(10, 6))\n",
    "plt.scatter(transformed_data[:, 0], transformed_data[:, 1], c=faces_data.target, cmap='viridis')\n",
    "plt.colorbar(label='Face ID')\n",
    "plt.xlabel('Principal Component 1')\n",
    "plt.ylabel('Principal Component 2')\n",
    "plt.title('PCA: 2D Visualization of Olivetti Faces')\n",
    "\n",
    "# Add labels for each point with their target values\n",
    "for i, txt in enumerate(faces_data.target):\n",
    "    plt.text(np.real(transformed_data[i, 0]), np.real(transformed_data[i, 1]), str(txt), fontsize=10)\n",
    "\n",
    "\n",
    "plt.show()"
   ]
  },
  {
   "cell_type": "code",
   "execution_count": null,
   "metadata": {
    "id": "gnVih-PTQgTI"
   },
   "outputs": [],
   "source": []
  },
  {
   "cell_type": "code",
   "execution_count": null,
   "metadata": {
    "executionInfo": {
     "elapsed": 8,
     "status": "aborted",
     "timestamp": 1664431869172,
     "user": {
      "displayName": "NIWAN WATTANAKITRUNGROJ",
      "userId": "04851413051165022286"
     },
     "user_tz": -420
    },
    "id": "n4m5W069YDX2"
   },
   "outputs": [],
   "source": []
  }
 ],
 "metadata": {
  "colab": {
   "authorship_tag": "ABX9TyNE6NBrw5yoSny5yY7+looG",
   "provenance": []
  },
  "kernelspec": {
   "display_name": "Python 3 (ipykernel)",
   "language": "python",
   "name": "python3"
  },
  "language_info": {
   "codemirror_mode": {
    "name": "ipython",
    "version": 3
   },
   "file_extension": ".py",
   "mimetype": "text/x-python",
   "name": "python",
   "nbconvert_exporter": "python",
   "pygments_lexer": "ipython3",
   "version": "3.10.11"
  }
 },
 "nbformat": 4,
 "nbformat_minor": 4
}
